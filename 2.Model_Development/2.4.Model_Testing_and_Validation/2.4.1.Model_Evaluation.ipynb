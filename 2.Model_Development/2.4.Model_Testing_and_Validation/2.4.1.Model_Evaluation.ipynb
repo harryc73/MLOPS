{
 "cells": [
  {
   "cell_type": "markdown",
   "metadata": {},
   "source": [
    "[Home](../../README.md)\n",
    "\n",
    "### Model Evaluation\n",
    "\n",
    "This is a demonstration of evaluating a model."
   ]
  },
  {
   "cell_type": "markdown",
   "metadata": {},
   "source": [
    "#### Step 1\n",
    "\n",
    "Load the required dependencies.\n"
   ]
  },
  {
   "cell_type": "code",
   "execution_count": 1,
   "metadata": {},
   "outputs": [],
   "source": [
    "# Import frameworks\n",
    "import numpy as np\n",
    "import pandas as pd\n",
    "import matplotlib.pyplot as plt\n",
    "plt.style.use('../../style_Matplotlib_charts.mplstyle')\n",
    "from sklearn.linear_model import LinearRegression\n",
    "import pickle"
   ]
  },
  {
   "cell_type": "markdown",
   "metadata": {},
   "source": [
    "####  Step 2\n",
    "\n",
    "Load the model for testing"
   ]
  },
  {
   "cell_type": "code",
   "execution_count": null,
   "metadata": {},
   "outputs": [],
   "source": [
    "filename = 'my_saved_model_v1.sav'\n",
    "model_A = pickle.load(open(filename, 'rb'))\n"
   ]
  },
  {
   "cell_type": "markdown",
   "metadata": {},
   "source": [
    "(Optional) Load a second model if you want to do comparative testing"
   ]
  },
  {
   "cell_type": "code",
   "execution_count": 3,
   "metadata": {},
   "outputs": [],
   "source": [
    "filename = 'my_saved_model_v1.sav'\n",
    "model_B = pickle.load(open(filename, 'rb'))"
   ]
  },
  {
   "cell_type": "markdown",
   "metadata": {},
   "source": [
    "####  Step 3\n",
    "Open and parse the test data CSV file and store the data as variable array data objects."
   ]
  },
  {
   "cell_type": "code",
   "execution_count": 4,
   "metadata": {},
   "outputs": [],
   "source": [
    "x_col = 'BMI'\n",
    "testing_data = pd.read_csv('2.4.1.testing_data.csv')\n",
    "x_test = np.array(testing_data[x_col]).reshape(-1,1)\n",
    "y_test = np.array(testing_data['Target'])"
   ]
  },
  {
   "cell_type": "markdown",
   "metadata": {},
   "source": [
    "#### Step 5\n",
    "\n",
    "Plot the test data features, targets and linear regression model to visually evaluate the model."
   ]
  },
  {
   "cell_type": "code",
   "execution_count": null,
   "metadata": {},
   "outputs": [],
   "source": [
    "y_pred = model_A.predict(x_test)\n",
    "plt.scatter(x_test, y_pred)\n",
    "plt.scatter(x_test, y_test, marker='x', c='r')\n",
    "plt.title(\"NESA Course Specifications Data\")\n",
    "plt.ylabel(f'Testing {x_col}')\n",
    "plt.xlabel(f'Testing Target')\n",
    "plt.show()"
   ]
  },
  {
   "cell_type": "markdown",
   "metadata": {},
   "source": [
    "#### Step 6\n",
    "\n",
    "Use the 'score' method of the `LinearRegression` class to return a score based evaluation of the models accuracy or performance."
   ]
  },
  {
   "cell_type": "code",
   "execution_count": null,
   "metadata": {},
   "outputs": [],
   "source": [
    "test_score = model_A.score(x_test, y_test)\n",
    "print(f'Training data score: {test_score}')"
   ]
  },
  {
   "cell_type": "markdown",
   "metadata": {},
   "source": [
    "#### Step 7\n",
    "\n",
    "Manually calculate and evaluate the 'loss' and 'cost' of the model using the test data."
   ]
  },
  {
   "cell_type": "code",
   "execution_count": null,
   "metadata": {},
   "outputs": [],
   "source": [
    "table = pd.DataFrame({\n",
    "    testing_data.columns[0]: x_test.flatten(),  # Flatten x for easy display\n",
    "    testing_data.columns[1]: y_test,\n",
    "    'Predicted result':model_A.predict(x_test),\n",
    "    'Loss' : y_test - model_A.predict(x_test).round(2)\n",
    "})\n",
    "print(table)\n",
    "cost = table['Loss'].sum() / table.shape[0]\n",
    "print(f\"The cost or average loss of this model is {cost}\")"
   ]
  },
  {
   "cell_type": "markdown",
   "metadata": {},
   "source": [
    "You may want to do some manual predictions to understand your model."
   ]
  },
  {
   "cell_type": "code",
   "execution_count": null,
   "metadata": {},
   "outputs": [],
   "source": [
    "print(model_A.predict([[0.1]]))\n",
    "print(model_A.predict([[1]]))"
   ]
  },
  {
   "cell_type": "markdown",
   "metadata": {},
   "source": [
    "#### Step 8\n",
    "\n",
    "Evaluate the X axis intercept and gradient or coefficient of your model by using the getter methods to return the intercept and coefficient from my_model() object."
   ]
  },
  {
   "cell_type": "code",
   "execution_count": null,
   "metadata": {},
   "outputs": [],
   "source": [
    "print(f'X Axis intercept: {model_A.intercept_}')\n",
    "print(f'Coefficient: {model_A.coef_}')"
   ]
  },
  {
   "cell_type": "markdown",
   "metadata": {},
   "source": [
    "#### Step 9. Multiple Variable Linear Regression\n",
    "\n",
    "You should be able to understand the code snippets with less guidelines."
   ]
  },
  {
   "cell_type": "code",
   "execution_count": 12,
   "metadata": {},
   "outputs": [],
   "source": [
    "filename = 'my_saved_model_v2.sav'\n",
    "model_C = pickle.load(open(filename, 'rb'))"
   ]
  },
  {
   "cell_type": "code",
   "execution_count": 13,
   "metadata": {},
   "outputs": [],
   "source": [
    "# Optional\n",
    "filename = 'my_saved_model_v2.sav'\n",
    "model_D = pickle.load(open(filename, 'rb'))"
   ]
  },
  {
   "cell_type": "code",
   "execution_count": 18,
   "metadata": {},
   "outputs": [],
   "source": [
    "mx_col = ['BMI','BP','FDR']\n",
    "testing_data = pd.read_csv('2.4.1.testing_data.csv')\n",
    "mx_test = np.array(testing_data[mx_col])\n",
    "my_test = np.array(testing_data['Target'])"
   ]
  },
  {
   "cell_type": "code",
   "execution_count": null,
   "metadata": {},
   "outputs": [],
   "source": [
    "my_pred = model_C.predict(mx_test)\n",
    "\n",
    "# plot predictions and targets vs original features    \n",
    "fig,ax=plt.subplots(1,len(mx_col),figsize=(12,3),sharey=True)\n",
    "for i in range(len(ax)):\n",
    "    ax[i].scatter(mx_test[:,i],my_test, label = 'target')\n",
    "    ax[i].set_xlabel(mx_col[i])\n",
    "    ax[i].scatter(mx_test[:,i],my_pred,color=\"orange\", label = 'predict')\n",
    "    ax[i].set_ylabel(\"Target\"); ax[i].legend();\n",
    "fig.suptitle(\"Diabetes Disease Progress\")\n",
    "plt.show()"
   ]
  },
  {
   "cell_type": "code",
   "execution_count": null,
   "metadata": {},
   "outputs": [],
   "source": [
    "test_score = model_C.score(mx_test, my_test)\n",
    "print(f'Training data score: {test_score}')"
   ]
  },
  {
   "cell_type": "code",
   "execution_count": null,
   "metadata": {},
   "outputs": [],
   "source": [
    "print(model_C.predict([[0.1,0.1,0.1]]))\n",
    "print(model_C.predict([[1,0.5,1]]))"
   ]
  },
  {
   "cell_type": "code",
   "execution_count": null,
   "metadata": {},
   "outputs": [],
   "source": [
    "data = {col: mx_test[:, i] for i, col in enumerate(mx_col)}\n",
    "data['Target'] = my_test\n",
    "data['Predicted result'] = model_C.predict(mx_test)\n",
    "data['Cost'] = my_test - model_C.predict(mx_test).round(2)\n",
    "\n",
    "table = pd.DataFrame(data)\n",
    "print(table)"
   ]
  },
  {
   "cell_type": "code",
   "execution_count": null,
   "metadata": {},
   "outputs": [],
   "source": [
    "print(f'X Axis intercept: {model_C.intercept_}')\n",
    "print(f'Coefficient: {model_C.coef_}')"
   ]
  },
  {
   "cell_type": "markdown",
   "metadata": {},
   "source": [
    "#### Step 10\n",
    "\n",
    "When your model is ready for operations, move it to the [3.Operations\\3.1.Deploy_Model](\\3.Operations\\3.1.Deploy_Model) folder."
   ]
  }
 ],
 "metadata": {
  "kernelspec": {
   "display_name": "Python 3",
   "language": "python",
   "name": "python3"
  },
  "language_info": {
   "codemirror_mode": {
    "name": "ipython",
    "version": 3
   },
   "file_extension": ".py",
   "mimetype": "text/x-python",
   "name": "python",
   "nbconvert_exporter": "python",
   "pygments_lexer": "ipython3",
   "version": "3.12.1"
  }
 },
 "nbformat": 4,
 "nbformat_minor": 2
}
