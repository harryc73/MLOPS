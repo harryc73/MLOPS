{
 "cells": [
  {
   "cell_type": "markdown",
   "metadata": {},
   "source": [
    "[Home](../../README.md)\n",
    "\n",
    "### Data Preprocessing\n",
    "\n",
    "This Jupyter Notebook demonstrates different processes you can apply to your data to better understand it before data wrangling. For this demonstration we will use relatively a complex real dataset that compares health measures with the speed of progress of type 2 adult onset diabetes."
   ]
  },
  {
   "cell_type": "markdown",
   "metadata": {},
   "source": [
    "#### Load the required dependencies\n",
    "\n",
    "Load the two required dependencies:\n",
    "\n",
    "- [Pandas](https://pandas.pydata.org/) is library for data analysis and manipulation.\n",
    "- [Matplotlib](https://matplotlib.org) a comprehensive library for creating static, animated, and interactive visualizations in Python. A customised stylesheet for the visualisations is also applied."
   ]
  },
  {
   "cell_type": "code",
   "execution_count": 86,
   "metadata": {},
   "outputs": [],
   "source": [
    "# Import frameworks\n",
    "import numpy as np\n",
    "import pandas as pd\n",
    "import matplotlib.pyplot as plt\n",
    "plt.style.use('../../style_Matplotlib_charts.mplstyle')"
   ]
  },
  {
   "cell_type": "markdown",
   "metadata": {},
   "source": [
    "####  Store the data as a local variable\n",
    "\n",
    "The data frame is a Pandas object that structures your tabular data into an appropriate format. It loads the complete data in memory so it is now ready for preprocessing."
   ]
  },
  {
   "cell_type": "code",
   "execution_count": 87,
   "metadata": {},
   "outputs": [],
   "source": [
    "data_frame = pd.read_csv(\"2.1.2.diabeties_sample_data.csv\")"
   ]
  },
  {
   "cell_type": "markdown",
   "metadata": {},
   "source": [
    "#### Data Snapshot\n",
    "\n",
    "It is important to get a high-level look at your dataset to understand what you are working with. Printing the complete data might be impossible for large-scale datasets where the rows can be in thousands or even millions.\n",
    "\n",
    "You can use the `head()` and `tail()` method call to inspect the first and last 5 rows of your dataset."
   ]
  },
  {
   "cell_type": "code",
   "execution_count": null,
   "metadata": {},
   "outputs": [],
   "source": [
    "# Target = A measure of disease progression in one year\n",
    "data_frame.head()"
   ]
  },
  {
   "cell_type": "markdown",
   "metadata": {},
   "source": [
    "####  Data Summary\n",
    " \n",
    "The `info()` method call prints a summary of each column, giving you more information about the specific data types, total number of rows, null values and memory usage."
   ]
  },
  {
   "cell_type": "code",
   "execution_count": null,
   "metadata": {},
   "outputs": [],
   "source": [
    "data_frame.info()"
   ]
  },
  {
   "cell_type": "markdown",
   "metadata": {},
   "source": [
    "#### Statistics For Numerical Columns\n",
    " \n",
    "The `describe()` method call provides basic statistical knowledge like the mean and spread of the data."
   ]
  },
  {
   "cell_type": "code",
   "execution_count": null,
   "metadata": {},
   "outputs": [],
   "source": [
    "data_frame.describe()"
   ]
  },
  {
   "cell_type": "markdown",
   "metadata": {},
   "source": [
    "#### Graphically present the data\n",
    "\n",
    "At this early stage you are just wanting to evaluate the data, the below simple plots lets you look the data in different ways to inform your model design and data wrangling approaches."
   ]
  },
  {
   "cell_type": "code",
   "execution_count": null,
   "metadata": {},
   "outputs": [],
   "source": [
    "# plot a line graph \n",
    "data_frame.plot()"
   ]
  },
  {
   "cell_type": "code",
   "execution_count": null,
   "metadata": {},
   "outputs": [],
   "source": [
    "# Plot a histogram of a column\n",
    "plt.hist(data_frame['BMI'])\n",
    "plt.title(f\"Histogram of {data_frame['BMI'].name}\")\n",
    "plt.ylabel('Count')\n",
    "plt.xlabel(f'{data_frame[\"BMI\"].name}')\n",
    "plt.show()"
   ]
  },
  {
   "cell_type": "code",
   "execution_count": null,
   "metadata": {},
   "outputs": [],
   "source": [
    "# Scatter plot 2 columns to see the relationship\n",
    "plt.scatter(data_frame['BMI'], data_frame['Target'])\n",
    "plt.title(f\"Scatter of {data_frame['BMI'].name} against {data_frame['Target'].name}\")\n",
    "plt.ylabel(f'{data_frame['Target'].name} Data')\n",
    "plt.xlabel(f'{data_frame['BMI'].name} Data')\n",
    "plt.show()"
   ]
  },
  {
   "cell_type": "code",
   "execution_count": null,
   "metadata": {},
   "outputs": [],
   "source": [
    "# Scatter plot multiples columns to see the relationship\n",
    "x_plot = ['BMI', 'BP']\n",
    "for col in x_plot:\n",
    "    plt.scatter(data_frame[col], data_frame['Target'], marker='x')\n",
    "plt.title(f\"Scatter of {*x_plot,} against {data_frame['Target'].name}\")\n",
    "plt.ylabel(f'{data_frame['Target'].name} Data')\n",
    "plt.xlabel(f'{*x_plot,} Data')\n",
    "plt.show()"
   ]
  },
  {
   "cell_type": "code",
   "execution_count": null,
   "metadata": {},
   "outputs": [],
   "source": [
    "# Scatter plot 2 columns in separate charts with a shared y-axis\n",
    "fig, (ax1, ax2) = plt.subplots(1,2, sharey=True)\n",
    "plt.suptitle(f\"Scatter of {data_frame['BMI'].name} and {data_frame['BP'].name} against {data_frame['Target'].name}\")\n",
    "ax1.set_ylabel(f'{data_frame['Target'].name} Data')\n",
    "\n",
    "ax1.scatter(data_frame['BMI'], data_frame['Target'])\n",
    "ax1.set_xlabel(f'{data_frame['BMI'].name} Data')\n",
    "\n",
    "ax2.scatter(data_frame['BP'], data_frame['Target'])\n",
    "ax2.set_xlabel(f'{data_frame['BP'].name} Data')\n",
    "\n",
    "plt.show()"
   ]
  },
  {
   "cell_type": "code",
   "execution_count": null,
   "metadata": {},
   "outputs": [],
   "source": [
    "# 3D Scatter plot 3 columns to see the relationship\n",
    "\n",
    "x_plot = ['BMI', 'BP']\n",
    "\n",
    "fig = plt.figure()\n",
    "plt.suptitle(f\"3D Scatter of {*x_plot,} against {data_frame['Target'].name}\")\n",
    "ax = fig.add_subplot(111, projection='3d')\n",
    "\n",
    "ax.scatter(data_frame[x_plot[0]], data_frame[x_plot[1]], data_frame['Target'], color='blue')\n",
    "\n",
    "x1_range = np.linspace(data_frame[x_plot[0]].min(), data_frame[x_plot[0]].max())\n",
    "x2_range = np.linspace(data_frame[x_plot[1]].min(), data_frame[x_plot[1]].max())\n",
    "X1_grid, X2_grid = np.meshgrid(x1_range, x2_range)\n",
    "\n",
    "\n",
    "ax.set_xlabel('Feature 1')\n",
    "ax.set_ylabel('Feature 2')\n",
    "ax.set_zlabel('Target')\n",
    "\n",
    "plt.show()"
   ]
  }
 ],
 "metadata": {
  "kernelspec": {
   "display_name": "Python 3",
   "language": "python",
   "name": "python3"
  },
  "language_info": {
   "codemirror_mode": {
    "name": "ipython",
    "version": 3
   },
   "file_extension": ".py",
   "mimetype": "text/x-python",
   "name": "python",
   "nbconvert_exporter": "python",
   "pygments_lexer": "ipython3",
   "version": "3.12.6"
  }
 },
 "nbformat": 4,
 "nbformat_minor": 2
}
